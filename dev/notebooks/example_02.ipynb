{
 "cells": [
  {
   "cell_type": "markdown",
   "source": [
    "# Example 01"
   ],
   "metadata": {}
  },
  {
   "cell_type": "markdown",
   "source": [
    "First import package"
   ],
   "metadata": {}
  },
  {
   "outputs": [],
   "cell_type": "code",
   "source": [
    "using RHEOSafm\n",
    "using RHEOS"
   ],
   "metadata": {},
   "execution_count": 1
  },
  {
   "cell_type": "markdown",
   "source": [
    "next import file"
   ],
   "metadata": {}
  },
  {
   "outputs": [],
   "cell_type": "code",
   "source": [
    "input_file = joinpath(@__DIR__, \"assets\", \"AFM_contact_test.txt\")\n",
    "data = importJPK(input_file, AFM(150e-9), sections = [\"extend\"]);"
   ],
   "metadata": {},
   "execution_count": 2
  },
  {
   "cell_type": "markdown",
   "source": [
    "and detect contact point"
   ],
   "metadata": {}
  },
  {
   "outputs": [],
   "cell_type": "code",
   "source": [
    "data_contact = contact_point(data, AFM(150e-9), \"hertz\", (R = 150e-9,));\n",
    "length_contact = length(data_contact.t);"
   ],
   "metadata": {},
   "execution_count": 3
  },
  {
   "cell_type": "markdown",
   "source": [
    "---\n",
    "\n",
    "*This notebook was generated using [Literate.jl](https://github.com/fredrikekre/Literate.jl).*"
   ],
   "metadata": {}
  }
 ],
 "nbformat_minor": 3,
 "metadata": {
  "language_info": {
   "file_extension": ".jl",
   "mimetype": "application/julia",
   "name": "julia",
   "version": "1.4.2"
  },
  "kernelspec": {
   "name": "julia-1.4",
   "display_name": "Julia 1.4.2",
   "language": "julia"
  }
 },
 "nbformat": 4
}
